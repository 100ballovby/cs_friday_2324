{
 "cells": [
  {
   "cell_type": "markdown",
   "source": [
    "# Рекурсия \n",
    "\n",
    "<p style=\"font-size: 18px;\">Допустим, вы разбираете шкаф и находите какой-то странный чемодан, который закрыт. Вам говорят, что ключ к чемодану скорее всего лежит в коробке.</p>\n",
    "\n",
    "<p style=\"font-size: 18px;\">Как только вы открываете коробку, вы видите, что в ней лежат еще коробки. Ключ находится в какой-то из коробок (а может и нет).</p>\n",
    "\n",
    "<img src=\"s1.png\" style=\"width: 50%;\">\n",
    "\n",
    "<p style=\"font-size: 18px;\">Но есть более элегантное альтернативное решение. Решение заключается в том, чтобы убрать из этого алгоритма цикл.</p>\n",
    "\n",
    "<img src=\"s2.png\" style=\"width: 50%;\">\n",
    "\n",
    "<ol style=\"font-size: 18px;\">\n",
    "<li>Просмотреть содержимое коробки</li>\n",
    "<li>Если вы найдете внутри коробку, вернуться к шагу 1</li>\n",
    "<li>Если вы найдете ключ, поиск окончен!</li>\n",
    "</ol>\n",
    "\n",
    "<p style=\"font-size: 18px;\">Первое решение можно построить на цикле <code>while</code>. Пока куча коробок не пуста, взять очередную коробку и проверить ее содержимое:</p>"
   ],
   "metadata": {
    "collapsed": false
   },
   "id": "3de1ff12f01e445c"
  },
  {
   "cell_type": "code",
   "execution_count": 1,
   "outputs": [],
   "source": [
    "def search_key(main_box):\n",
    "    kucha = main_box.get_kucha_to_look_through()\n",
    "    while kucha is not empty:\n",
    "        box = kucha.grab_a_box()\n",
    "        for item in box:\n",
    "            if item.is_a_box():  # если внутри коробки еще коробка\n",
    "                kucha.append(item)  # забрасываем коробку в кучу \n",
    "            elif item.is_a_key():  # если мы нашли ключ \n",
    "                print('Key found!')\n",
    "                break "
   ],
   "metadata": {
    "collapsed": false,
    "ExecuteTime": {
     "end_time": "2024-01-05T10:26:02.094276Z",
     "start_time": "2024-01-05T10:26:02.091574Z"
    }
   },
   "id": "5d6af352bbefe344"
  },
  {
   "cell_type": "markdown",
   "source": [
    "<p style=\"font-size: 18px;\">Второй способ основан на рекурсивном алгоритме. <i>Рекурсией</i> называется вызов функции самой себя. Второе решение можно представить так:</p>"
   ],
   "metadata": {
    "collapsed": false
   },
   "id": "8ad0f21afbdba10e"
  },
  {
   "cell_type": "code",
   "execution_count": 2,
   "outputs": [],
   "source": [
    "def search_key(box):\n",
    "    for item in box:\n",
    "        if item.is_a_box():\n",
    "            search_key(item)  # рекурсия \n",
    "        elif item.is_a_key():\n",
    "            return item.key()"
   ],
   "metadata": {
    "collapsed": false,
    "ExecuteTime": {
     "end_time": "2024-01-05T10:28:28.522261Z",
     "start_time": "2024-01-05T10:28:28.516682Z"
    }
   },
   "id": "8b1ec60e337fc3fb"
  },
  {
   "cell_type": "markdown",
   "source": [
    "<p style=\"font-size: 18px;\">Оба решения деляют одно и то же, но второе решение кажется немного более понятным и простым. Рекурсия применяется тогда, когда решение становится более понятным. Применение рекусии не ускоряет работы программы: более того, решение с циклами иногда работают гораздо быстрее.</p> \n",
    "\n",
    "<p style=\"font-size: 18px; font-weight: bold;\">Циклы могут ускорить работы программы. Рекурсия может ускорить работу программиста.</p>\n",
    "\n",
    "## Базовый и рекурсивный случай\n",
    "\n",
    "<p style=\"font-size: 18px;\">Так как рекурсивная функция вызывает саму себя, программисту легко ошибиться и написать функцию так, что возникнет бесконечный цикл. Предположим, что вы хотите написать функцию для вывода обратного отсчета:</p>\n",
    "\n",
    "<pre><code>> 3...2...1 </code></pre>\n",
    "\n",
    "<p style=\"font-size: 18px;\">Ее можно написать в рекурсивном виде:</p>"
   ],
   "metadata": {
    "collapsed": false
   },
   "id": "1d58b45d3d3d5251"
  },
  {
   "cell_type": "code",
   "execution_count": 10,
   "outputs": [],
   "source": [
    "def countdown(n):\n",
    "    print(n)\n",
    "    countdown(n - 1)\n",
    "    \n",
    "# если запустить, будет ошибка: RecursionError: maximum recursion depth exceeded while calling a Python object"
   ],
   "metadata": {
    "collapsed": false,
    "ExecuteTime": {
     "end_time": "2024-01-05T11:28:12.919951Z",
     "start_time": "2024-01-05T11:28:12.915706Z"
    }
   },
   "id": "a703cbc7dfd1144d"
  },
  {
   "cell_type": "markdown",
   "source": [
    "<p style=\"font-size: 18px;\">Возникает проблема: эта программа работает бесконечно. Потому что у нее есть ТОЛЬКО рекурсивный случай. Рекурсивным случаем называется ситуация, которую нужно повторять (вызов функции самой себя).</p>\n",
    "\n",
    "<p style=\"font-size: 18px;\">Когда вы пишете рекурсивную функциб, в ней необходимо указать, в какой момент следует прервать повторение (прервать рекурсию). Именно по этой причине все рекурсивные функции имеют две части: <i>базовый случай</i> и <i>рекурсивный случай</i>. В рекурсивном функция вызывает саму себя. В базовом случае функция себя не вызывает, чтобы проедотвратить зацикливание.</p>\n",
    "\n",
    "<p style=\"font-size: 18px;\">Если добавить оба этих случая в программу из примера выше, получится что-то вроде:</p>"
   ],
   "metadata": {
    "collapsed": false
   },
   "id": "8a3ca54d6e6ef96a"
  },
  {
   "cell_type": "code",
   "execution_count": 9,
   "outputs": [
    {
     "name": "stdout",
     "output_type": "stream",
     "text": [
      "3\n",
      "2\n",
      "1\n"
     ]
    }
   ],
   "source": [
    "def countdown(n):\n",
    "    print(n)\n",
    "    if n <= 1:  # базовый случай (условие выхода из рекурсии)\n",
    "        return  # выход из рекурсии (потому что return останавливает работу функции)\n",
    "    else:  # рекурсивный случай (то, что нужно повторять)\n",
    "        countdown(n - 1)\n",
    "        \n",
    "\n",
    "countdown(3)"
   ],
   "metadata": {
    "collapsed": false,
    "ExecuteTime": {
     "end_time": "2024-01-05T10:42:28.454678Z",
     "start_time": "2024-01-05T10:42:28.450940Z"
    }
   },
   "id": "df923a44e2b84d74"
  },
  {
   "cell_type": "markdown",
   "source": [
    "<p style=\"font-size: 18px;\">Теперь рекурсивная функция будет работать так, как задумано:</p>\n",
    "\n",
    "<img src=\"s3.png\" style=\"width: 50%;\">"
   ],
   "metadata": {
    "collapsed": false
   },
   "id": "62a1128d03ecb8c"
  },
  {
   "cell_type": "code",
   "execution_count": null,
   "outputs": [],
   "source": [],
   "metadata": {
    "collapsed": false
   },
   "id": "845b5f44dc0c394d"
  }
 ],
 "metadata": {
  "kernelspec": {
   "display_name": "Python 3",
   "language": "python",
   "name": "python3"
  },
  "language_info": {
   "codemirror_mode": {
    "name": "ipython",
    "version": 2
   },
   "file_extension": ".py",
   "mimetype": "text/x-python",
   "name": "python",
   "nbconvert_exporter": "python",
   "pygments_lexer": "ipython2",
   "version": "2.7.6"
  }
 },
 "nbformat": 4,
 "nbformat_minor": 5
}
