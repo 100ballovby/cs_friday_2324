{
 "cells": [
  {
   "cell_type": "markdown",
   "id": "9054f204-f157-44cd-b8c8-6be740fecdfb",
   "metadata": {
    "ExecuteTime": {
     "end_time": "2024-02-09T13:09:57.986151Z",
     "start_time": "2024-02-09T13:09:57.984586Z"
    },
    "collapsed": true,
    "jupyter": {
     "outputs_hidden": true
    }
   },
   "source": [
    "# ДЗ. Перевод с одного языка на другой\n",
    "\n",
    "\n",
    "<pre style=\"font-size: 18px;\"><code>\n",
    "int linear_search(int a[], int l, int key) {\n",
    "    for (int i = 0; i < l; i++) {\n",
    "        if (a[i] == key) {  // если элемент в массиве совпадает с искомым значением\n",
    "            return i;  // возвращаю индекс найденного элемента\n",
    "        }\n",
    "    }\n",
    "    return -1;\n",
    "}\n",
    "</code></pre>\n",
    "\n",
    "<p style=\"font-size: 18px\">Необходимо переписать эту функцию на Python</p>\n",
    "\n",
    "<p style=\"font-size: 18px\">Функции в Python пишутся не так, как в С++: не нужно указывать тип возвращаемого значения (вы не пишете о том, что ваша функция возвращает число или строку, а также не нужно указывать тип данных параметров. Более того, списки передаются в функцию как обычная переменная (в Python), поэтому квадратные скобки мы не пишем. Фигурных скобок в Python также нет, поэтому используем двоеточие. Используя эти знания, получаем следующий вид первой строчки программы:</p>\n",
    "\n",
    "<pre style=\"font-size: 18px;\"><code>\n",
    "def linear_search(a, l, key):\n",
    "</code></pre>\n",
    "\n",
    "<p style=\"font-size: 18px\">Следующая проблема - это циклы. В Python они пишутся иначе. В частности вместо ручного создания итерационной переменной <code>i</code>, используется фукнция <code>range()</code>. Используя эти знания, получаем следующий вид второй строчки программы:</p>\n",
    "\n",
    "<pre style=\"font-size: 18px;\"><code>\n",
    "    for i in range(l):\n",
    "</code></pre>\n",
    "\n",
    "<p style=\"font-size: 18px\">Следующая проблема - это условия, но оно практически никак не изменяется. Просто применяем правила синтаксиса Python: убираем фигурные скобки и заменяем их на двоеточие, на забывая об отсупе. Круглые скобки в самом выражении можно оставить. Используя эти знания, получаем следующий вид третьей строчки программы:</p>\n",
    "\n",
    "\n",
    "<pre style=\"font-size: 18px;\"><code>\n",
    "        if (a[i] == key):\n",
    "</code></pre>\n",
    "\n",
    "<p style=\"font-size: 18px\">Дальнейшее изменение кода заключается в том, что необходимо (хотя необязательно) убрать <code>;</code> и убрать оставшиеся фигурные скобки из тела функции. На этом работа по переводу функции на другой язык программирования окончена:</p>"
   ]
  },
  {
   "cell_type": "code",
   "execution_count": 3,
   "id": "8e73b65a64ea2b37",
   "metadata": {},
   "outputs": [
    {
     "name": "stdout",
     "output_type": "stream",
     "text": [
      "Нашел на месте 7\n"
     ]
    }
   ],
   "source": [
    "def linear_search(a, l, key):\n",
    "    for i in range(l):\n",
    "        if (a[i] == key):\n",
    "            return i\n",
    "    return -1\n",
    "\n",
    "list1 = [4, 3130, 12, 8, 90, 15, 78, 22, 98, 100, 215, 74, 14, 17, 8, 2, 3, 10, 7, 999]\n",
    "\n",
    "res = linear_search(list1, 20, 22)\n",
    "\n",
    "if res >= 0:\n",
    "    print(f'Нашел на месте {res}')\n",
    "else:\n",
    "    print('Такого элемента в списке нет!')"
   ]
  },
  {
   "cell_type": "markdown",
   "id": "50f72432-5106-485e-bd2e-e523977eee7d",
   "metadata": {},
   "source": [
    "\n",
    "<pre style=\"font-size: 18px;\"><code>\n",
    "void sort(int a[], int length) {\n",
    "    for (int i = 0; i < length - 1; i++) {\n",
    "        for (int j = 0; j < length - i - 1; j++) {\n",
    "            if (a[j] > a[j + 1]) {\n",
    "                // swap(a[j], a[j + 1]);  // меняю местами числа - только в C++\n",
    "                int temp = a[j];  \n",
    "                a[j] = a[j + 1];  \n",
    "                a[j + 1] = temp;\n",
    "            }\n",
    "        }\n",
    "    }\n",
    "}\n",
    "</code></pre>\n",
    "\n",
    "\n",
    "<p style=\"font-size: 18px\">Во второй задаче необходимо было переписать код функции сортировки. Суть такая же: убираем синтаксические основы С++ из кода и превращаем его в Python-код</p>"
   ]
  },
  {
   "cell_type": "code",
   "execution_count": 9,
   "id": "5ae1fca3-d0a8-4bd7-b1c4-b2e7aae0ce91",
   "metadata": {},
   "outputs": [
    {
     "name": "stdout",
     "output_type": "stream",
     "text": [
      "[2, 3, 4, 7, 8, 8, 10, 12, 14, 15, 17, 22, 74, 78, 90, 98, 100, 215, 999, 3130]\n"
     ]
    }
   ],
   "source": [
    "def sort(a, length):\n",
    "    for i in range(length - 1):\n",
    "        for j in range(length - i - 1):\n",
    "            if (a[j] > a[j + 1]):\n",
    "                # a[j], a[j + 1] = a[j + 1], a[j]  # меняю местами числа - только в Python\n",
    "                temp = a[j]\n",
    "                a[j] = a[j + 1]  \n",
    "                a[j + 1] = temp\n",
    "\n",
    "list1 = [4, 3130, 12, 8, 90, 15, 78, 22, 98, 100, 215, 74, 14, 17, 8, 2, 3, 10, 7, 999]\n",
    "sort(list1, 20)\n",
    "\n",
    "print(list1)"
   ]
  },
  {
   "cell_type": "code",
   "execution_count": null,
   "id": "33ed2349-fbd4-4236-90c9-4f4409fbcebc",
   "metadata": {},
   "outputs": [],
   "source": []
  }
 ],
 "metadata": {
  "kernelspec": {
   "display_name": "Python 3 (ipykernel)",
   "language": "python",
   "name": "python3"
  },
  "language_info": {
   "codemirror_mode": {
    "name": "ipython",
    "version": 3
   },
   "file_extension": ".py",
   "mimetype": "text/x-python",
   "name": "python",
   "nbconvert_exporter": "python",
   "pygments_lexer": "ipython3",
   "version": "3.11.2"
  }
 },
 "nbformat": 4,
 "nbformat_minor": 5
}
