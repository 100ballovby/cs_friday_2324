{
 "cells": [
  {
   "cell_type": "markdown",
   "id": "2b0498d4-1dfd-40d5-a78b-36b9a8d8fb26",
   "metadata": {
    "ExecuteTime": {
     "end_time": "2024-02-16T13:07:44.747621Z",
     "start_time": "2024-02-16T13:07:44.745764Z"
    },
    "collapsed": true,
    "jupyter": {
     "outputs_hidden": true
    }
   },
   "source": [
    "# Строки (еще раз)\n",
    "\n",
    "<p style=\"font-size: 18px;\">Строкой называет <b>ЛЮБАЯ</b> последовательность символов, которая заключена в кавычки. Кавычки (для Python) не имеют значения, можно использовать как <code>'</code>, так и <code>\"</code>. Однако важно, чтобы строка и начиналась, и заканчивалась одним и тем же типом кавычек.</p>"
   ]
  },
  {
   "cell_type": "code",
   "execution_count": 1,
   "id": "eedc6de7-8009-4abe-845f-d094d83ded48",
   "metadata": {},
   "outputs": [
    {
     "name": "stdout",
     "output_type": "stream",
     "text": [
      "<class 'str'>\n"
     ]
    }
   ],
   "source": [
    "string = \"Hello, world!\"\n",
    "\n",
    "print(type(string))"
   ]
  },
  {
   "cell_type": "markdown",
   "id": "f92a4469-6363-4067-98b1-fedc81ec1956",
   "metadata": {},
   "source": [
    "<p style=\"font-size: 18px;\">Строки - это упорядоченные коллекции. Это означает, что каждый элемент такой коллекции должен иметь какую-то метку, которая позволяет к нему обратиться.</p>\n",
    "\n",
    "<p style=\"font-size: 18px;\">У элементов строк, так же, как у элементов списков, есть порядковые номера - <b>индексы</b>. Индексы начинаются с <code>0</code>, заканчиваются числом, которое можно посчитать как <code>len(str) - 1</code>. Например, если в строке <code>16</code> символов, то индексы будут располагаться от <code>0</code> до <code>15</code>.</p>\n",
    "\n",
    "<p style=\"font-size: 18px;\">Система индексации строк ничем не отличается от системы индексации списков. Это означает, что у вас есть возможность обращаться к элементам строки по индексу так же, как вы делаете это со строками. Единственное, что делать нельзя - это удалять элементы и заменять их по индексу. Вставка (поставить элемент на определенный индекс) элемента в строку также не работает.</p>"
   ]
  },
  {
   "cell_type": "code",
   "execution_count": 3,
   "id": "a8213a89-6f11-4a82-8c9e-834ccd1349ee",
   "metadata": {},
   "outputs": [
    {
     "name": "stdout",
     "output_type": "stream",
     "text": [
      "H\n",
      " \n"
     ]
    }
   ],
   "source": [
    "# обращение к элементу строки\n",
    "print(string[0])  # первый символ в строке\n",
    "print(string[6])  # пробел в строке имеет индекс 6 "
   ]
  },
  {
   "cell_type": "markdown",
   "id": "e0aa5cd3-2614-4a6c-b3aa-9ddc1d80ab30",
   "metadata": {},
   "source": [
    "\n",
    "<hr>\n",
    "<h2 style=\"color: red;\">То, что написано дальше, работает только в Python</h2>\n",
    "\n",
    "<p style=\"font-size: 18px;\">Из строки можно доставать подстроки. Подстрока - это вырезанная последовательность символов из строки (не полная строка). Чтобы получить подстроку, ее нужно вырезать из изначальной строки. Для этого используется система срезов (такая же, как в списках).</p>\n",
    "\n",
    "<p style=\"font-size: 18px;\">Чтобы сделать срез, нужно в квадратных скобках после переменной со строкой указать через двоеточие промежуток индексов, в рамках которых нужно вырезать символы из строки. Например, я хочу вырезать слово <code>Hell</code> из строки <code>string = \"Hello, world!\"</code>:</p>"
   ]
  },
  {
   "cell_type": "code",
   "execution_count": 5,
   "id": "25765722-41f7-462c-811f-25b85900ff91",
   "metadata": {},
   "outputs": [
    {
     "name": "stdout",
     "output_type": "stream",
     "text": [
      "Hell\n"
     ]
    }
   ],
   "source": [
    "substring = string[0:4]\n",
    "print(substring)"
   ]
  },
  {
   "cell_type": "markdown",
   "id": "2978ae6a-e02e-4fa6-bfbe-e7c9fa5522c4",
   "metadata": {},
   "source": [
    "<p style=\"font-size: 18px;\">Последний индекс не входит в срез. То есть, если вам нужно вырезать символы из строки сначала до 4 включая его, нужно написать <code>[0:<b>5</b>]</code>. Индекс <code>5</code> не будет включен в срез. а индекс <code>4</code> будет.</p>\n",
    "\n",
    "<p style=\"font-size: 18px;\">На самом деле, необязательно писать стартовый индекс, если вам нужен срез с самого начала строки. Его можно в принципе не указывать, достаточно написать вот так:</p>"
   ]
  },
  {
   "cell_type": "code",
   "execution_count": 7,
   "id": "22a2de82-a39a-4c1b-a7d0-2e6a529d1092",
   "metadata": {},
   "outputs": [
    {
     "name": "stdout",
     "output_type": "stream",
     "text": [
      "Hell\n"
     ]
    }
   ],
   "source": [
    "substring = string[:4]  # срезать сначала до 3 символа включительно\n",
    "print(substring)"
   ]
  },
  {
   "cell_type": "markdown",
   "id": "5d7de776-ecc8-4764-bc01-622017ae0011",
   "metadata": {},
   "source": [
    "<p style=\"font-size: 18px;\">То же самое касается среза до конца строки. Чтобы вырезать подстроку из строки с определенного символа и до конца, финальный символ можно в принципе не указывать, достаточно написать вот так:</p>"
   ]
  },
  {
   "cell_type": "code",
   "execution_count": 21,
   "id": "94b6f6ce-52fc-4359-bf95-b1c20b69ffbb",
   "metadata": {},
   "outputs": [
    {
     "name": "stdout",
     "output_type": "stream",
     "text": [
      "work\n",
      "work\n"
     ]
    }
   ],
   "source": [
    "string = \"Homework\"\n",
    "\n",
    "substring = string[4:]\n",
    "print(substring)\n",
    "subs = string[4:8]\n",
    "print(subs)"
   ]
  },
  {
   "cell_type": "markdown",
   "id": "8d17f5c4-3b27-4595-8b39-53174865dc78",
   "metadata": {},
   "source": [
    "<p style=\"font-size: 18px;\">Благодаря срезам, вы можете разворачивать строки в обратном порядке. Для этого нужно сделать срез строки от начала до конца с шагом <code>-1</code>.</p>"
   ]
  },
  {
   "cell_type": "code",
   "execution_count": 20,
   "id": "e5483ddc-19c4-4cc1-a8f0-bbd50ddc649f",
   "metadata": {},
   "outputs": [
    {
     "name": "stdout",
     "output_type": "stream",
     "text": [
      "разверни меня в обратную сторону\n"
     ]
    }
   ],
   "source": [
    "phrase = 'уноротс юунтарбо в янем инревзар'\n",
    "print(phrase[::-1])"
   ]
  },
  {
   "cell_type": "markdown",
   "id": "adae43ac-0acd-4769-8f42-7fd94d9bbf27",
   "metadata": {},
   "source": [
    "<p style=\"font-size: 18px;\">Механизм с разворотом строки позволяет решить задачу про палиндромы немножко проще:</p>"
   ]
  },
  {
   "cell_type": "code",
   "execution_count": 25,
   "id": "24ae6480-01e7-4377-992f-3c6a8004e3fd",
   "metadata": {},
   "outputs": [
    {
     "name": "stdout",
     "output_type": "stream",
     "text": [
      "True\n"
     ]
    }
   ],
   "source": [
    "def check_palindrome(word):\n",
    "    res = word == word[::-1]\n",
    "    return res\n",
    "\n",
    "print(check_palindrome(\"казак\"))"
   ]
  },
  {
   "cell_type": "code",
   "execution_count": 24,
   "id": "e12fca94-7121-4a18-9a99-b07529e00c55",
   "metadata": {},
   "outputs": [
    {
     "name": "stdout",
     "output_type": "stream",
     "text": [
      "привет == тевирп\n"
     ]
    }
   ],
   "source": [
    "word = \"привет\"\n",
    "print(word, '==', word[::-1])"
   ]
  },
  {
   "cell_type": "markdown",
   "id": "4cfdf5a8-f120-4dfb-abdb-e312ebc6454b",
   "metadata": {},
   "source": [
    "<p style=\"font-size: 18px;\">Оператор <code>==</code> возвращает <code>True</code>, если операнды равны между собой или <code>False</code>, если не равны.</p>\n",
    "\n",
    "<p style=\"font-size: 18px;\">Таким образом, когда вы сравниваете две строки, одна из которых написана слева-направа, а вторая справа-налево, если буквы будут стоять не на своих местах, вернется <code>False</code>.</p>\n",
    "\n",
    "\n",
    "<hr>\n",
    "<h2 style=\"color: red;\">То, что написано дальше, работает в любом языке (с поправкой на синтаксис)</h2>\n",
    "\n",
    "<p style=\"font-size: 18px;\">Так как строки - это упорядоченные последовательности и каждый элемент строки имеет порядковый номер (индекс), их можно просматривать циклами. В частности, вы можете перебрать символы строки, используя цикл <code>for</code>. В функцию <code>range()</code> при таком переборе необходимо вставить функцию <code>len()</code>, которая измеряет длину последовательности, с переменной, хранящей строку:</p>"
   ]
  },
  {
   "cell_type": "code",
   "execution_count": 26,
   "id": "eb9e4560-2618-47c8-a8ab-24335c20c0b8",
   "metadata": {},
   "outputs": [
    {
     "name": "stdout",
     "output_type": "stream",
     "text": [
      "Индекс: 0 символ Я\n",
      "Индекс: 1 символ  \n",
      "Индекс: 2 символ с\n",
      "Индекс: 3 символ т\n",
      "Индекс: 4 символ р\n",
      "Индекс: 5 символ о\n",
      "Индекс: 6 символ ч\n",
      "Индекс: 7 символ к\n",
      "Индекс: 8 символ а\n",
      "Индекс: 9 символ ,\n",
      "Индекс: 10 символ  \n",
      "Индекс: 11 символ п\n",
      "Индекс: 12 символ р\n",
      "Индекс: 13 символ о\n",
      "Индекс: 14 символ с\n",
      "Индекс: 15 символ м\n",
      "Индекс: 16 символ о\n",
      "Индекс: 17 символ т\n",
      "Индекс: 18 символ р\n",
      "Индекс: 19 символ и\n",
      "Индекс: 20 символ  \n",
      "Индекс: 21 символ м\n",
      "Индекс: 22 символ е\n",
      "Индекс: 23 символ н\n",
      "Индекс: 24 символ я\n",
      "Индекс: 25 символ  \n",
      "Индекс: 26 символ ц\n",
      "Индекс: 27 символ и\n",
      "Индекс: 28 символ к\n",
      "Индекс: 29 символ л\n",
      "Индекс: 30 символ о\n",
      "Индекс: 31 символ м\n"
     ]
    }
   ],
   "source": [
    "phrase = \"Я строчка, просмотри меня циклом\"\n",
    "\n",
    "for i in range(len(phrase)):\n",
    "    print('Индекс:', i, 'символ', phrase[i])"
   ]
  },
  {
   "cell_type": "markdown",
   "id": "00f85450-e1a1-4f06-8ea8-59ab50d10742",
   "metadata": {},
   "source": [
    "<p style=\"font-size: 18px;\">В Python есть такая штука, как форматированная строка. Она позволяет вставить значение переменной в строку, не разбивая строку при этом. Чтобы создать форматированную строку, нужно поставить букву <code>f</code> перед кавычкой. А переменные в строку вставлять внутри <code>{}</code>.</p>"
   ]
  },
  {
   "cell_type": "code",
   "execution_count": 28,
   "id": "b3d481de-a028-407a-bfac-73a0efb798cc",
   "metadata": {},
   "outputs": [
    {
     "name": "stdout",
     "output_type": "stream",
     "text": [
      "Индекс: 0, символ: Я\n",
      "Индекс: 1, символ:  \n",
      "Индекс: 2, символ: с\n",
      "Индекс: 3, символ: т\n",
      "Индекс: 4, символ: р\n",
      "Индекс: 5, символ: о\n",
      "Индекс: 6, символ: ч\n",
      "Индекс: 7, символ: к\n",
      "Индекс: 8, символ: а\n"
     ]
    }
   ],
   "source": [
    "phrase = \"Я строчка\"\n",
    "\n",
    "for i in range(len(phrase)):\n",
    "    print(f'Индекс: {i}, символ: {phrase[i]}')"
   ]
  },
  {
   "cell_type": "markdown",
   "id": "afe4b525-acc3-4431-b028-2120ddced8b2",
   "metadata": {},
   "source": [
    "<p style=\"font-size: 18px;\">F-строка не имеет полезного применения, кроме красивого вывода строки. Например, ваша задача с выводом таблицы умножения и f-строчкой может выглядеть так:</p>"
   ]
  },
  {
   "cell_type": "code",
   "execution_count": 31,
   "id": "9ac3352d-7381-490c-ae56-47527e2a5d96",
   "metadata": {},
   "outputs": [
    {
     "name": "stdin",
     "output_type": "stream",
     "text": [
      "Введите число:  8\n"
     ]
    },
    {
     "name": "stdout",
     "output_type": "stream",
     "text": [
      "8 * 1 = 8\n",
      "8 * 2 = 16\n",
      "8 * 3 = 24\n",
      "8 * 4 = 32\n",
      "8 * 5 = 40\n",
      "8 * 6 = 48\n",
      "8 * 7 = 56\n",
      "8 * 8 = 64\n",
      "8 * 9 = 72\n",
      "8 * 10 = 80\n"
     ]
    }
   ],
   "source": [
    "n = int(input('Введите число: '))\n",
    "\n",
    "for i in range(1, 11):\n",
    "    print(f'{n} * {i} = {n * i}')"
   ]
  },
  {
   "cell_type": "code",
   "execution_count": null,
   "id": "7eb47a5d-f478-4505-994c-8c0af67a18e8",
   "metadata": {},
   "outputs": [],
   "source": []
  }
 ],
 "metadata": {
  "kernelspec": {
   "display_name": "Python 3 (ipykernel)",
   "language": "python",
   "name": "python3"
  },
  "language_info": {
   "codemirror_mode": {
    "name": "ipython",
    "version": 3
   },
   "file_extension": ".py",
   "mimetype": "text/x-python",
   "name": "python",
   "nbconvert_exporter": "python",
   "pygments_lexer": "ipython3",
   "version": "3.11.2"
  }
 },
 "nbformat": 4,
 "nbformat_minor": 5
}
